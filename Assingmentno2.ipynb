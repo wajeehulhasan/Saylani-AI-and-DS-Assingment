{
  "metadata": {
    "language_info": {
      "codemirror_mode": {
        "name": "python",
        "version": 3
      },
      "file_extension": ".py",
      "mimetype": "text/x-python",
      "name": "python",
      "nbconvert_exporter": "python",
      "pygments_lexer": "ipython3",
      "version": "3.8"
    },
    "kernelspec": {
      "name": "python",
      "display_name": "Python (Pyodide)",
      "language": "python"
    }
  },
  "nbformat_minor": 4,
  "nbformat": 4,
  "cells": [
    {
      "cell_type": "code",
      "source": "id_card = '''\nStudent Name : Wajeeh Ul Hasan\nFather Name : Ahsan Ali\nInstitute Name : SMIT\nRoll No : 33\n'''\nprint(id_card.capitalize())",
      "metadata": {
        "trusted": true
      },
      "execution_count": 4,
      "outputs": [
        {
          "name": "stdout",
          "text": "\nstudent name : wajeeh ul hasan\nfather name : ahsan ali\ninstitute name : smit\nroll no : 33\n\n",
          "output_type": "stream"
        }
      ]
    },
    {
      "cell_type": "code",
      "source": "#Capitalize:\n#It converts the first character of a string to an uppercase letter and all other alphabets to lowercase.\nname = 'wajeeh Ul Hasan'\nprint(name.capitalize())",
      "metadata": {
        "trusted": true
      },
      "execution_count": 5,
      "outputs": [
        {
          "name": "stdout",
          "text": "Wajeeh ul hasan\n",
          "output_type": "stream"
        }
      ]
    },
    {
      "cell_type": "code",
      "source": "#Casefold:\n# Convert all the characters to lower case\nprint(id_card.casefold())",
      "metadata": {
        "trusted": true
      },
      "execution_count": 6,
      "outputs": [
        {
          "name": "stdout",
          "text": "\nstudent name : wajeeh ul hasan\nfather name : ahsan ali\ninstitute name : smit\nroll no : 33\n\n",
          "output_type": "stream"
        }
      ]
    },
    {
      "cell_type": "code",
      "source": "#Center \nprint(name.center(50))\n",
      "metadata": {
        "trusted": true
      },
      "execution_count": 7,
      "outputs": [
        {
          "name": "stdout",
          "text": "                 wajeeh Ul Hasan                  \n",
          "output_type": "stream"
        }
      ]
    },
    {
      "cell_type": "code",
      "source": "print(name.center(50,'O'))",
      "metadata": {
        "trusted": true
      },
      "execution_count": 8,
      "outputs": [
        {
          "name": "stdout",
          "text": "OOOOOOOOOOOOOOOOOwajeeh Ul HasanOOOOOOOOOOOOOOOOOO\n",
          "output_type": "stream"
        }
      ]
    },
    {
      "cell_type": "code",
      "source": "#count\n#It will count the numbers\nprint(id_card.count('a'))",
      "metadata": {
        "trusted": true
      },
      "execution_count": 9,
      "outputs": [
        {
          "name": "stdout",
          "text": "8\n",
          "output_type": "stream"
        }
      ]
    },
    {
      "cell_type": "code",
      "source": "#encode\nprint(id_card.encode())",
      "metadata": {
        "trusted": true
      },
      "execution_count": 10,
      "outputs": [
        {
          "name": "stdout",
          "text": "b'\\nStudent Name : Wajeeh Ul Hasan\\nFather Name : Ahsan Ali\\nInstitute Name : SMIT\\nRoll No : 33\\n'\n",
          "output_type": "stream"
        }
      ]
    },
    {
      "cell_type": "code",
      "source": "#endswith\n#The endswith() method returns True if the string ends with the specified value, otherwise False.\nprint(name.endswith(\"n\"))",
      "metadata": {
        "trusted": true
      },
      "execution_count": 11,
      "outputs": [
        {
          "name": "stdout",
          "text": "True\n",
          "output_type": "stream"
        }
      ]
    },
    {
      "cell_type": "code",
      "source": "#string.endswith(value, start, end)\nprint(name.endswith(\"Hasan\", 10,15))",
      "metadata": {
        "trusted": true
      },
      "execution_count": 12,
      "outputs": [
        {
          "name": "stdout",
          "text": "True\n",
          "output_type": "stream"
        }
      ]
    },
    {
      "cell_type": "code",
      "source": "#expandtabs\n#The expandtabs() method sets the tab size to the specified number of whitespaces.\nname = \"wajeeh\\tul\\thasan\"\nprint(name)\nprint(name.expandtabs())\nprint(name.expandtabs(2))\nprint(name.expandtabs(4))\nprint(name.expandtabs(10))",
      "metadata": {
        "trusted": true
      },
      "execution_count": 13,
      "outputs": [
        {
          "name": "stdout",
          "text": "wajeeh\tul\thasan\nwajeeh  ul      hasan\nwajeeh  ul  hasan\nwajeeh  ul  hasan\nwajeeh    ul        hasan\n",
          "output_type": "stream"
        }
      ]
    },
    {
      "cell_type": "code",
      "source": "#find\n#The find() method finds the first occurrence of the specified value.\n\n#The find() method returns -1 if the value is not found.\n\n#The find() method is almost the same as the index() method, the only difference is that the index() method raises an exception if the value is not found. (See example below)\n\nprint(id_card.find(\"a\"))\nprint(id_card.find(\"z\"))\n#string.find(value, start, end)\nprint(id_card.find(\"33\",5,100))\n",
      "metadata": {
        "trusted": true
      },
      "execution_count": 14,
      "outputs": [
        {
          "name": "stdout",
          "text": "10\n-1\n88\n",
          "output_type": "stream"
        }
      ]
    },
    {
      "cell_type": "code",
      "source": "#format\nname = \"Wajeeh\"\nfather_name = \"Ahsan\"\nstudent_card = '''\nName : {}\nFather name: {}\n'''.format(name,father_name)\nprint(student_card)",
      "metadata": {
        "trusted": true
      },
      "execution_count": 15,
      "outputs": [
        {
          "name": "stdout",
          "text": "\nName : Wajeeh\nFather name: Ahsan\n\n",
          "output_type": "stream"
        }
      ]
    },
    {
      "cell_type": "code",
      "source": "#index\nprint(id_card.index('a'))\n\nprint(id_card.index('33',5,100))",
      "metadata": {
        "trusted": true
      },
      "execution_count": 16,
      "outputs": [
        {
          "name": "stdout",
          "text": "10\n88\n",
          "output_type": "stream"
        }
      ]
    },
    {
      "cell_type": "code",
      "source": "print(id_card.index('z'))",
      "metadata": {
        "trusted": true
      },
      "execution_count": 17,
      "outputs": [
        {
          "ename": "<class 'ValueError'>",
          "evalue": "substring not found",
          "traceback": [
            "\u001b[0;31m---------------------------------------------------------------------------\u001b[0m",
            "\u001b[0;31mValueError\u001b[0m                                Traceback (most recent call last)",
            "Cell \u001b[0;32mIn[17], line 1\u001b[0m\n\u001b[0;32m----> 1\u001b[0m \u001b[38;5;28mprint\u001b[39m(\u001b[43mid_card\u001b[49m\u001b[38;5;241;43m.\u001b[39;49m\u001b[43mindex\u001b[49m\u001b[43m(\u001b[49m\u001b[38;5;124;43m'\u001b[39;49m\u001b[38;5;124;43mz\u001b[39;49m\u001b[38;5;124;43m'\u001b[39;49m\u001b[43m)\u001b[49m)\n",
            "\u001b[0;31mValueError\u001b[0m: substring not found"
          ],
          "output_type": "error"
        }
      ]
    },
    {
      "cell_type": "code",
      "source": "#isalnum\n#The isalnum() method returns True if all the characters are alphanumeric, meaning alphabet letter (a-z) and numbers (0-9).\nprint(id_card.isalnum())\n",
      "metadata": {
        "trusted": true
      },
      "execution_count": 18,
      "outputs": [
        {
          "name": "stdout",
          "text": "False\n",
          "output_type": "stream"
        }
      ]
    },
    {
      "cell_type": "code",
      "source": "print(id_card.isalpha())",
      "metadata": {
        "trusted": true
      },
      "execution_count": 19,
      "outputs": [
        {
          "name": "stdout",
          "text": "False\n",
          "output_type": "stream"
        }
      ]
    },
    {
      "cell_type": "code",
      "source": "name = \"wajeehulhasan\"\nprint(name.isalpha())",
      "metadata": {
        "trusted": true
      },
      "execution_count": 20,
      "outputs": [
        {
          "name": "stdout",
          "text": "True\n",
          "output_type": "stream"
        }
      ]
    },
    {
      "cell_type": "code",
      "source": "print(name.isascii())",
      "metadata": {
        "trusted": true
      },
      "execution_count": 21,
      "outputs": [
        {
          "name": "stdout",
          "text": "True\n",
          "output_type": "stream"
        }
      ]
    },
    {
      "cell_type": "code",
      "source": "#isdecimal\n#The isdecimal() method returns True if all the characters are decimals (0-9).\n\n#This method is used on unicode objects.\n\n\nvalue = \"\\u0033\"  #unicode for 3\nprint(value.isdecimal())\n\n",
      "metadata": {
        "trusted": true
      },
      "execution_count": 22,
      "outputs": [
        {
          "name": "stdout",
          "text": "True\n",
          "output_type": "stream"
        }
      ]
    },
    {
      "cell_type": "code",
      "source": "'''\nWhat is the difference between Isdecimal and Isdigit in Python?\nAs you can see, the main difference between the three functions is: \nisdecimal() method supports only Decimal Numbers. \nisdigit() method supports Decimals, Subscripts, Superscripts. \nisnumeric() method supports Digits, Vulgar Fractions, Subscripts, Superscripts, Roman Numerals, Currency Numerators.\n\n\n\n\n\n\n'''",
      "metadata": {
        "trusted": true
      },
      "execution_count": 23,
      "outputs": [
        {
          "execution_count": 23,
          "output_type": "execute_result",
          "data": {
            "text/plain": "'\\nWhat is the difference between Isdecimal and Isdigit in Python?\\nAs you can see, the main difference between the three functions is: \\nisdecimal() method supports only Decimal Numbers. \\nisdigit() method supports Decimals, Subscripts, Superscripts. \\nisnumeric() method supports Digits, Vulgar Fractions, Subscripts, Superscripts, Roman Numerals, Currency Numerators.\\n\\n\\n\\n\\n\\n\\n'"
          },
          "metadata": {}
        }
      ]
    },
    {
      "cell_type": "code",
      "source": "num = '1234'\nprint(num.isdigit())\n",
      "metadata": {
        "trusted": true
      },
      "execution_count": 24,
      "outputs": [
        {
          "name": "stdout",
          "text": "True\n",
          "output_type": "stream"
        }
      ]
    },
    {
      "cell_type": "code",
      "source": "# Is 42 a decimal or digit or numeric number?\nprint('42'.isdecimal())        # Prints True\nprint('42'.isdigit())          # Prints True\nprint('42'.isnumeric())        # Prints True",
      "metadata": {
        "trusted": true
      },
      "execution_count": 25,
      "outputs": [
        {
          "name": "stdout",
          "text": "True\nTrue\nTrue\n",
          "output_type": "stream"
        }
      ]
    },
    {
      "cell_type": "code",
      "source": "# Is ² (Superscript Two) a decimal or digit or numeric number?\nprint('\\u00b2'.isdecimal())    # Prints False\nprint('\\u00b2'.isdigit())      # Prints True\nprint('\\u00b2'.isnumeric())    # Prints True",
      "metadata": {
        "trusted": true
      },
      "execution_count": 26,
      "outputs": [
        {
          "name": "stdout",
          "text": "False\nTrue\nTrue\n",
          "output_type": "stream"
        }
      ]
    },
    {
      "cell_type": "code",
      "source": "# Is ⅓ (Vulgar Fraction One Third) a decimal or digit or numeric number?\nprint('\\u2153'.isdecimal())    # Prints False\nprint('\\u2153'.isdigit())      # Prints False\nprint('\\u2153'.isnumeric())    # Prints True",
      "metadata": {
        "trusted": true
      },
      "execution_count": 27,
      "outputs": [
        {
          "name": "stdout",
          "text": "False\nFalse\nTrue\n",
          "output_type": "stream"
        }
      ]
    },
    {
      "cell_type": "code",
      "source": "#isidentifier\n#The isidentifier() method returns True if the string is a valid identifier, otherwise False.\n\na = \"MyFolder\"\nb = \"Demo002\"\nc = \"2bring\"\nd = \"my demo\"\n\nprint(a.isidentifier())\nprint(b.isidentifier())\nprint(c.isidentifier())\nprint(d.isidentifier())",
      "metadata": {
        "trusted": true
      },
      "execution_count": 28,
      "outputs": [
        {
          "name": "stdout",
          "text": "True\nTrue\nFalse\nFalse\n",
          "output_type": "stream"
        }
      ]
    },
    {
      "cell_type": "code",
      "source": "print(name.isidentifier())\nprint(value.isidentifier())",
      "metadata": {
        "trusted": true
      },
      "execution_count": 29,
      "outputs": [
        {
          "name": "stdout",
          "text": "True\nFalse\n",
          "output_type": "stream"
        }
      ]
    },
    {
      "cell_type": "code",
      "source": "#islower\n'''The islower() method returns True if all the characters are in lower case, otherwise False.\n\nNumbers, symbols and spaces are not checked, only alphabet characters.'\n\n'''\n\nprint(name.islower())\nprint(id_card.islower())",
      "metadata": {
        "trusted": true
      },
      "execution_count": 30,
      "outputs": [
        {
          "name": "stdout",
          "text": "True\nFalse\n",
          "output_type": "stream"
        }
      ]
    },
    {
      "cell_type": "code",
      "source": "#isprintable\n'''The isprintable() method returns True if all the characters are printable, otherwise False.\n\nExample of none printable character can be carriage return and line feed \\n., \\t'\n'''\nprint(name.isprintable())\nprint(id_card.isprintable())\n\nfather_name = \"ahsan\\tali\"\nprint(father_name.isprintable())",
      "metadata": {
        "trusted": true
      },
      "execution_count": 31,
      "outputs": [
        {
          "name": "stdout",
          "text": "True\nFalse\nFalse\n",
          "output_type": "stream"
        }
      ]
    },
    {
      "cell_type": "code",
      "source": "#isspace\n'''The isspace() method returns True if all the characters in a string are whitespaces, otherwise False.\n\n'''\nspace = '    '\nprint(space.isspace())\n\nprint(name)\nprint(name.isspace())\n\n\n",
      "metadata": {
        "trusted": true
      },
      "execution_count": 32,
      "outputs": [
        {
          "name": "stdout",
          "text": "True\nwajeehulhasan\nFalse\n",
          "output_type": "stream"
        }
      ]
    },
    {
      "cell_type": "code",
      "source": "#istitle\n'''\nThe istitle() method returns True if all words in a text start with a upper case letter, AND the rest of the word are lower case letters, otherwise False.\n\nSymbols and numbers are ignored.\n'''\nintro = \"Hello, My Name Is Wajeeh Ul Hasan\"\nprint(intro.istitle())\n\nprint(name.istitle())\n",
      "metadata": {
        "trusted": true
      },
      "execution_count": 33,
      "outputs": [
        {
          "name": "stdout",
          "text": "True\nFalse\n",
          "output_type": "stream"
        }
      ]
    },
    {
      "cell_type": "code",
      "source": "#isupper\n'''\nThe isupper() method returns True if all the characters are in upper case, otherwise False.\n\nNumbers, symbols and spaces are not checked, only alphabet characters.\n'''\ntxt = \"HELLO GUYS\"\nprint(txt.isupper())\nprint(name.isupper())",
      "metadata": {
        "trusted": true
      },
      "execution_count": 35,
      "outputs": [
        {
          "name": "stdout",
          "text": "True\nFalse\n",
          "output_type": "stream"
        }
      ]
    },
    {
      "cell_type": "code",
      "source": "#join\n'''The join() method takes all items in an iterable and joins them into one string.\n\nA string must be specified as the separator.\n\nstring.join(iterable)\n'''\nstring = ['wa','je','eh']\nprint(string)\nprint(','.join(string))\nprint(','.join(txt))",
      "metadata": {
        "trusted": true
      },
      "execution_count": 52,
      "outputs": [
        {
          "name": "stdout",
          "text": "['wa', 'je', 'eh']\nwa,je,eh\nH,E,L,L,O, ,G,U,Y,S\n",
          "output_type": "stream"
        }
      ]
    },
    {
      "cell_type": "code",
      "source": "#ljust\n'''The ljust() method will left align the string, \nusing a specified character (space is default) as the fill character.\n\nSyntax\nstring.ljust(length, character)\n\nlength\tRequired. The length of the returned string\ncharacter\tOptional. A character to fill the missing space (to the right of the string). Default is \" \" (space).\n\n'''\n\nprint(txt.ljust(20), \"How are you\")\nprint(txt.ljust(20,'#'),\"How are you\")",
      "metadata": {
        "trusted": true
      },
      "execution_count": 50,
      "outputs": [
        {
          "name": "stdout",
          "text": "HELLO GUYS           How are you\nHELLO GUYS########## How are you\n",
          "output_type": "stream"
        }
      ]
    },
    {
      "cell_type": "code",
      "source": "#lower\n'''\nThe lower() method returns a string where all characters are lower case.\n\n Symbols and Numbers are ignored.\n\n'''\nprint(txt.lower())",
      "metadata": {
        "trusted": true
      },
      "execution_count": 51,
      "outputs": [
        {
          "name": "stdout",
          "text": "hello guys\n",
          "output_type": "stream"
        }
      ]
    },
    {
      "cell_type": "code",
      "source": "#lstrip\n'''\nThe lstrip() method removes any leading characters (space is the default leading character to remove)\n\nSyntax\nstring.lstrip(characters)\n\ncharacters\tOptional. A set of characters to remove as leading characters\n'''\ntxt = '      wajeeh   '\nprint(txt.lstrip(), \"ul hasan\")\n\nsentence = \",++zxrrrt wajeeh\"\nprint(sentence.lstrip(',+xzrt'))",
      "metadata": {
        "trusted": true
      },
      "execution_count": 59,
      "outputs": [
        {
          "name": "stdout",
          "text": "wajeeh    ul hasan\n wajeeh\n",
          "output_type": "stream"
        }
      ]
    },
    {
      "cell_type": "code",
      "source": "#partition\n'''The partition() method searches for a specified string, and splits the string into a tuple containing three elements.\n\nThe first element contains the part before the specified string.\n\nThe second element contains the specified string.\n\nThe third element contains the part after the string.\n\nSyntax\nstring.partition(value)\n\nvalue\tRequired. The string to search for\n'''\ntxt = \"I love to play cricket\"\nprint(txt.partition(\"play\"))",
      "metadata": {
        "trusted": true
      },
      "execution_count": 62,
      "outputs": [
        {
          "name": "stdout",
          "text": "('I love to ', 'play', ' cricket')\n",
          "output_type": "stream"
        }
      ]
    },
    {
      "cell_type": "code",
      "source": "#removeprefix\n'''Python String removeprefix() function removes the prefix and returns the rest of the string. \nIf the prefix string is not found, then it returns the original string.\n\nSyntax: str_obj_name.removeprefix(prefix\n\nParameters: prefix– prefix string that we are checking for.\n\nReturn: Returns the copy of the string with the prefix removed(if present), else the original string.\n\n'''\ntxt = \"GeeksforGeeks\"\nprint(txt.removeprefix(\"Geeks\"))\nprint(txt.removeprefix(\"forGeeks\"))\n\nname = \"wajeeh ul hasan\"\nprint(name.removeprefix(\"wajeeh\"))\nprint(name.removeprefix(\"hasan\"))",
      "metadata": {
        "trusted": true
      },
      "execution_count": 66,
      "outputs": [
        {
          "name": "stdout",
          "text": "forGeeks\nGeeksforGeeks\n ul hasan\nwajeeh ul hasan\n",
          "output_type": "stream"
        }
      ]
    },
    {
      "cell_type": "code",
      "source": "#removesuffix\n'''If the string ends with the suffix and the suffix is not empty, the str.removesuffix(suffix, /) function \nremoves the suffix and returns the rest of the string. If the suffix string is not found then it returns \nthe original string. It is introduced in Python 3.9.0 version.\n\nSyntax: str.removesuffix(suffix, /)\n\nSuffix– suffix string that we are checking for.\n\nReturn value:\n\nReturns: string[ : – len (suffix) ] if the string ends with suffix string and that suffix is not empty. \nElse it returns the copy of original string\n\n'''\n\nprint(\"Computer Science\".removesuffix(\"Science\"))\n\nprint(\"Wajeeh Ul Hasan\".removesuffix(\"Wajeeh\"))",
      "metadata": {
        "trusted": true
      },
      "execution_count": 68,
      "outputs": [
        {
          "name": "stdout",
          "text": "Computer \nWajeeh Ul Hasan\n",
          "output_type": "stream"
        }
      ]
    },
    {
      "cell_type": "code",
      "source": "#replace\n'''\nThe replace() method replaces a specified phrase with another specified phrase.\n\nSyntax\nstring.replace(oldvalue, newvalue, count)\n\noldvalue\tRequired. The string to search for\nnewvalue\tRequired. The string to replace the old value with\ncount\tOptional. A number specifying how many occurrences of the old value you want to replace. Default is all occurrences\n\n'''\n\ntxt = ' apple is a good fruit. apple is so sweet '\nprint(txt.replace(\"apple\",\"mango\"))\n\nprint(txt.replace(\"apple\",\"mango\",1))",
      "metadata": {
        "trusted": true
      },
      "execution_count": 72,
      "outputs": [
        {
          "name": "stdout",
          "text": " mango is a good fruit. mango is so sweet \n mango is a good fruit. apple is so sweet \n",
          "output_type": "stream"
        }
      ]
    },
    {
      "cell_type": "code",
      "source": "#rfind and rindex()\n'''\nThe rfind() or rindex() method returns the highest index of the substring (if found)..\nThe rindex() method raises an exception if the value is not found.\nrindex() If not found, it returns -1\nSyntax\nstring.rfind(value, start, end)\n\n'''\n\ntxt = 'who are you,let it be, who are you'\nprint(txt.rfind(\"are\"))\n\nprint(txt.rfind(\"who\",5,28))\n\nprint(txt.rfind(\"is\"))",
      "metadata": {
        "trusted": true
      },
      "execution_count": 77,
      "outputs": [
        {
          "name": "stdout",
          "text": "27\n23\n-1\n",
          "output_type": "stream"
        }
      ]
    },
    {
      "cell_type": "code",
      "source": "txt = 'who are you,let it be, who are you'\nprint(txt.rindex(\"are\"))\n\nprint(txt.rindex(\"who\",5,28))\n\nprint(txt.rindex(\"is\"))",
      "metadata": {
        "trusted": true
      },
      "execution_count": 78,
      "outputs": [
        {
          "name": "stdout",
          "text": "27\n23\n",
          "output_type": "stream"
        },
        {
          "ename": "<class 'ValueError'>",
          "evalue": "substring not found",
          "traceback": [
            "\u001b[0;31m---------------------------------------------------------------------------\u001b[0m",
            "\u001b[0;31mValueError\u001b[0m                                Traceback (most recent call last)",
            "Cell \u001b[0;32mIn[78], line 6\u001b[0m\n\u001b[1;32m      2\u001b[0m \u001b[38;5;28mprint\u001b[39m(txt\u001b[38;5;241m.\u001b[39mrindex(\u001b[38;5;124m\"\u001b[39m\u001b[38;5;124mare\u001b[39m\u001b[38;5;124m\"\u001b[39m))\n\u001b[1;32m      4\u001b[0m \u001b[38;5;28mprint\u001b[39m(txt\u001b[38;5;241m.\u001b[39mrindex(\u001b[38;5;124m\"\u001b[39m\u001b[38;5;124mwho\u001b[39m\u001b[38;5;124m\"\u001b[39m,\u001b[38;5;241m5\u001b[39m,\u001b[38;5;241m28\u001b[39m))\n\u001b[0;32m----> 6\u001b[0m \u001b[38;5;28mprint\u001b[39m(\u001b[43mtxt\u001b[49m\u001b[38;5;241;43m.\u001b[39;49m\u001b[43mrindex\u001b[49m\u001b[43m(\u001b[49m\u001b[38;5;124;43m\"\u001b[39;49m\u001b[38;5;124;43mis\u001b[39;49m\u001b[38;5;124;43m\"\u001b[39;49m\u001b[43m)\u001b[49m)\n",
            "\u001b[0;31mValueError\u001b[0m: substring not found"
          ],
          "output_type": "error"
        }
      ]
    },
    {
      "cell_type": "code",
      "source": "#rjust\n'''The rjust() method will right align the string, \nusing a specified character (space is default) as the fill character.\n\nSyntax\nstring.rjust(length, character)\n\nlength\tRequired. The length of the returned string\ncharacter\tOptional. A character to fill the missing space (to the left of the string). Default is \" \" (space).\n'''\n\nprint(\"HEllo how are you\".rjust(20))\nprint(\"HEllo how are you\".rjust(20,'@'))",
      "metadata": {
        "trusted": true
      },
      "execution_count": 84,
      "outputs": [
        {
          "name": "stdout",
          "text": "   HEllo how are you\n@@@HEllo how are you\n",
          "output_type": "stream"
        }
      ]
    },
    {
      "cell_type": "code",
      "source": "#rpartition\n'''\nThe rpartition() method searches for the last occurrence of a specified string, and splits the string into a tuple containing three elements.\n\nThe first element contains the part before the specified string.\n\nThe second element contains the specified string.\n\nThe third element contains the part after the string.\n\nSyntax\nstring.rpartition(value)\n\n'''\n\nprint(\"I completed my graduation, my graduation is completed in 2023\".rpartition(\"graduation\"))\n",
      "metadata": {
        "trusted": true
      },
      "execution_count": 86,
      "outputs": [
        {
          "name": "stdout",
          "text": "('I completed my graduation, my ', 'graduation', ' is completed in 2023')\n",
          "output_type": "stream"
        }
      ]
    },
    {
      "cell_type": "code",
      "source": "#rsplit\n'''\nThe rsplit() method splits a string into a list, starting from the right.\n\nIf no \"max\" is specified, this method will return the same as the split() method.\n\nNote: When maxsplit is specified, the list will contain the specified number of elements plus one.\n\nSyntax\nstring.rsplit(separator, maxsplit)\n\nseparator\tOptional. Specifies the separator to use when splitting the string. By default any whitespace is a separator\nmaxsplit\tOptional. Specifies how many splits to do. Default value is -1, which is \"all occurrences\"\n\n\n'''\ntxt = 'who are you, let it be, who are you'\n\nprint(txt.rsplit(','))\nprint(txt.split(',',1))\n",
      "metadata": {
        "trusted": true
      },
      "execution_count": 90,
      "outputs": [
        {
          "name": "stdout",
          "text": "['who are you', ' let it be', ' who are you']\n['who are you', ' let it be, who are you']\n",
          "output_type": "stream"
        }
      ]
    },
    {
      "cell_type": "code",
      "source": "#rstrip\n'''\nThe rstrip() method removes any trailing characters (characters at the end a string), space is the default trailing character to remove.\n\nSyntax\nstring.rstrip(characters)\n'''\ntxt = '        who are you, let it be, who are you        '\nprint(\"hello\", txt.rstrip(), \"hello\")\nprint(txt.rstrip(\"who are you\"))",
      "metadata": {
        "trusted": true
      },
      "execution_count": 98,
      "outputs": [
        {
          "name": "stdout",
          "text": "hello         who are you, let it be, who are you hello\n        who are you, let it be,\n",
          "output_type": "stream"
        }
      ]
    },
    {
      "cell_type": "code",
      "source": "#split\n'''\nThe split() method splits a string into a list, starting from the right.\n\nIf no \"max\" is specified, this method will return the same as the split() method.\n\n\n\nSyntax\nstring.split(separator, maxsplit)\n\nseparator\tOptional. Specifies the separator to use when splitting the string. By default any whitespace is a separator\nmaxsplit\tOptional. Specifies how many splits to do. Default value is -1, which is \"all occurrences\"\n\n\n'''\ntxt = 'who are you, let it be, who are you'\n\nprint(txt.split(','))\nprint(txt.split(',',1))",
      "metadata": {
        "trusted": true
      },
      "execution_count": 99,
      "outputs": [
        {
          "name": "stdout",
          "text": "['who are you', ' let it be', ' who are you']\n['who are you', ' let it be, who are you']\n",
          "output_type": "stream"
        }
      ]
    },
    {
      "cell_type": "code",
      "source": "",
      "metadata": {},
      "execution_count": null,
      "outputs": []
    }
  ]
}